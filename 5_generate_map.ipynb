{
 "cells": [
  {
   "cell_type": "code",
   "execution_count": 1,
   "metadata": {},
   "outputs": [],
   "source": [
    "import os\n",
    "import json"
   ]
  },
  {
   "cell_type": "code",
   "execution_count": 2,
   "metadata": {},
   "outputs": [],
   "source": [
    "addr = json.load(open('addr.json'))\n",
    "addr_cache = json.load(open('addr_cache.json'))"
   ]
  },
  {
   "cell_type": "code",
   "execution_count": 3,
   "metadata": {},
   "outputs": [],
   "source": [
    "os.makedirs('docs/map', exist_ok=True)"
   ]
  },
  {
   "cell_type": "code",
   "execution_count": 4,
   "metadata": {},
   "outputs": [],
   "source": [
    "def sort_key(item, center=[121.48, 31.236]):\n",
    "    lng, lat = item['value'][:2]\n",
    "    return ((lng - center[0]) ** 2 + (lat - center[1]) ** 2) ** 0.5"
   ]
  },
  {
   "cell_type": "code",
   "execution_count": 5,
   "metadata": {},
   "outputs": [],
   "source": [
    "for elem in addr:\n",
    "    data = [\n",
    "        {\n",
    "            'name': x,\n",
    "            'value': [\n",
    "                addr_cache[x]['lng'],\n",
    "                addr_cache[x]['lat'],\n",
    "                1\n",
    "            ]\n",
    "        }\n",
    "        for x in elem['addr']\n",
    "        if x in addr_cache\n",
    "    ]\n",
    "    data = sorted(data, key=sort_key)\n",
    "    with open(f'docs/map/{elem[\"date\"]}.json', 'w') as fp:\n",
    "        json.dump(data, fp, ensure_ascii=False, indent=4)"
   ]
  },
  {
   "cell_type": "code",
   "execution_count": 6,
   "metadata": {},
   "outputs": [
    {
     "name": "stdout",
     "output_type": "stream",
     "text": [
      "14days.json    20220313.json  20220331.json  20220418.json  20220506.json\r\n",
      "20220224.json  20220314.json  20220401.json  20220419.json  20220507.json\r\n",
      "20220225.json  20220315.json  20220402.json  20220420.json  20220508.json\r\n",
      "20220226.json  20220316.json  20220403.json  20220421.json  20220509.json\r\n",
      "20220227.json  20220317.json  20220404.json  20220422.json  20220510.json\r\n",
      "20220228.json  20220318.json  20220405.json  20220423.json  20220511.json\r\n",
      "20220301.json  20220319.json  20220406.json  20220424.json  20220512.json\r\n",
      "20220302.json  20220320.json  20220407.json  20220425.json  20220513.json\r\n",
      "20220303.json  20220321.json  20220408.json  20220426.json  20220514.json\r\n",
      "20220304.json  20220322.json  20220409.json  20220427.json  20220515.json\r\n",
      "20220305.json  20220323.json  20220410.json  20220428.json  20220516.json\r\n",
      "20220306.json  20220324.json  20220411.json  20220429.json  20220517.json\r\n",
      "20220307.json  20220325.json  20220412.json  20220430.json  20220518.json\r\n",
      "20220308.json  20220326.json  20220413.json  20220501.json  3days.json\r\n",
      "20220309.json  20220327.json  20220414.json  20220502.json  7days.json\r\n",
      "20220310.json  20220328.json  20220415.json  20220503.json  latest.json\r\n",
      "20220311.json  20220329.json  20220416.json  20220504.json\r\n",
      "20220312.json  20220330.json  20220417.json  20220505.json\r\n"
     ]
    }
   ],
   "source": [
    "!ls docs/map"
   ]
  },
  {
   "cell_type": "code",
   "execution_count": 7,
   "metadata": {},
   "outputs": [
    {
     "data": {
      "text/plain": [
       "'20220518'"
      ]
     },
     "execution_count": 7,
     "metadata": {},
     "output_type": "execute_result"
    }
   ],
   "source": [
    "all_dates = sorted([x['date'] for x in addr if x['date'] >= '20220306'])\n",
    "latest_date = all_dates[-1]\n",
    "latest_date"
   ]
  },
  {
   "cell_type": "code",
   "execution_count": 8,
   "metadata": {},
   "outputs": [],
   "source": [
    "with open('docs/map/latest.json', 'w') as fp:\n",
    "    json.dump({\n",
    "        'latest': latest_date,\n",
    "        'dates': all_dates,\n",
    "        'start': '20220306',\n",
    "    }, fp, indent=4, ensure_ascii=False)"
   ]
  },
  {
   "cell_type": "code",
   "execution_count": 9,
   "metadata": {},
   "outputs": [],
   "source": [
    "def generate_last(all_dates, addr, addr_cache, day = 7):\n",
    "    last_days = all_dates[-day:]\n",
    "    print(len(last_days))\n",
    "    data = []\n",
    "    for elem in addr:\n",
    "        if elem['date'] in last_days:\n",
    "            data += [\n",
    "                {\n",
    "                    'name': x,\n",
    "                    'value': [\n",
    "                        addr_cache[x]['lng'],\n",
    "                        addr_cache[x]['lat'],\n",
    "                        1\n",
    "                    ]\n",
    "                }\n",
    "                for x in elem['addr']\n",
    "                if x in addr_cache\n",
    "            ]\n",
    "    path = f'docs/map/{day}days.json'\n",
    "    data = sorted(data, key=sort_key)\n",
    "    print(len(data))\n",
    "    with open(path, 'w') as fp:\n",
    "        json.dump(data, fp, ensure_ascii=False, indent=4)\n",
    "    print(path)"
   ]
  },
  {
   "cell_type": "code",
   "execution_count": 10,
   "metadata": {},
   "outputs": [
    {
     "name": "stdout",
     "output_type": "stream",
     "text": [
      "3\n",
      "902\n",
      "docs/map/3days.json\n",
      "7\n",
      "3232\n",
      "docs/map/7days.json\n",
      "14\n",
      "11602\n",
      "docs/map/14days.json\n"
     ]
    }
   ],
   "source": [
    "generate_last(all_dates, addr, addr_cache, day=3)\n",
    "generate_last(all_dates, addr, addr_cache, day=7)\n",
    "generate_last(all_dates, addr, addr_cache, day=14)"
   ]
  },
  {
   "cell_type": "code",
   "execution_count": 11,
   "metadata": {},
   "outputs": [
    {
     "name": "stdout",
     "output_type": "stream",
     "text": [
      "{\r\n",
      "    \"latest\": \"20220518\",\r\n",
      "    \"dates\": [\r\n",
      "        \"20220306\",\r\n",
      "        \"20220307\",\r\n",
      "        \"20220308\",\r\n",
      "        \"20220309\",\r\n",
      "        \"20220310\",\r\n",
      "        \"20220311\",\r\n",
      "        \"20220312\",\r\n",
      "        \"20220313\",\r\n",
      "        \"20220314\",\r\n",
      "        \"20220315\",\r\n",
      "        \"20220316\",\r\n",
      "        \"20220317\",\r\n",
      "        \"20220318\",\r\n",
      "        \"20220319\",\r\n",
      "        \"20220320\",\r\n",
      "        \"20220321\",\r\n",
      "        \"20220322\",\r\n",
      "        \"20220323\",\r\n",
      "        \"20220324\",\r\n",
      "        \"20220325\",\r\n",
      "        \"20220326\",\r\n",
      "        \"20220327\",\r\n",
      "        \"20220328\",\r\n",
      "        \"20220329\",\r\n",
      "        \"20220330\",\r\n",
      "        \"20220331\",\r\n",
      "        \"20220401\",\r\n",
      "        \"20220402\",\r\n",
      "        \"20220403\",\r\n",
      "        \"20220404\",\r\n",
      "        \"20220405\",\r\n",
      "        \"20220406\",\r\n",
      "        \"20220407\",\r\n",
      "        \"20220408\",\r\n",
      "        \"20220409\",\r\n",
      "        \"20220410\",\r\n",
      "        \"20220411\",\r\n",
      "        \"20220412\",\r\n",
      "        \"20220413\",\r\n",
      "        \"20220414\",\r\n",
      "        \"20220415\",\r\n",
      "        \"20220416\",\r\n",
      "        \"20220417\",\r\n",
      "        \"20220418\",\r\n",
      "        \"20220419\",\r\n",
      "        \"20220420\",\r\n",
      "        \"20220421\",\r\n",
      "        \"20220422\",\r\n",
      "        \"20220423\",\r\n",
      "        \"20220424\",\r\n",
      "        \"20220425\",\r\n",
      "        \"20220426\",\r\n",
      "        \"20220427\",\r\n",
      "        \"20220428\",\r\n",
      "        \"20220429\",\r\n",
      "        \"20220430\",\r\n",
      "        \"20220501\",\r\n",
      "        \"20220502\",\r\n",
      "        \"20220503\",\r\n",
      "        \"20220504\",\r\n",
      "        \"20220505\",\r\n",
      "        \"20220506\",\r\n",
      "        \"20220507\",\r\n",
      "        \"20220508\",\r\n",
      "        \"20220509\",\r\n",
      "        \"20220510\",\r\n",
      "        \"20220511\",\r\n",
      "        \"20220512\",\r\n",
      "        \"20220513\",\r\n",
      "        \"20220514\",\r\n",
      "        \"20220515\",\r\n",
      "        \"20220516\",\r\n",
      "        \"20220517\",\r\n",
      "        \"20220518\"\r\n",
      "    ],\r\n",
      "    \"start\": \"20220306\"\r\n",
      "}"
     ]
    }
   ],
   "source": [
    "!cat docs/map/latest.json"
   ]
  },
  {
   "cell_type": "code",
   "execution_count": null,
   "metadata": {},
   "outputs": [],
   "source": []
  }
 ],
 "metadata": {
  "kernelspec": {
   "display_name": "Python 3",
   "language": "python",
   "name": "python3"
  },
  "language_info": {
   "codemirror_mode": {
    "name": "ipython",
    "version": 3
   },
   "file_extension": ".py",
   "mimetype": "text/x-python",
   "name": "python",
   "nbconvert_exporter": "python",
   "pygments_lexer": "ipython3",
   "version": "3.8.6"
  }
 },
 "nbformat": 4,
 "nbformat_minor": 4
}
