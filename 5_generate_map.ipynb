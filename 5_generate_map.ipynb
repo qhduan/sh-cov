{
 "cells": [
  {
   "cell_type": "code",
   "execution_count": 19,
   "metadata": {},
   "outputs": [],
   "source": [
    "import os\n",
    "import json"
   ]
  },
  {
   "cell_type": "code",
   "execution_count": 20,
   "metadata": {},
   "outputs": [],
   "source": [
    "addr = json.load(open('addr.json'))\n",
    "addr_cache = json.load(open('addr_cache.json'))"
   ]
  },
  {
   "cell_type": "code",
   "execution_count": 21,
   "metadata": {},
   "outputs": [],
   "source": [
    "os.makedirs('docs/map', exist_ok=True)"
   ]
  },
  {
   "cell_type": "code",
   "execution_count": 22,
   "metadata": {},
   "outputs": [],
   "source": [
    "for elem in addr:\n",
    "    data = [\n",
    "        {\n",
    "            'name': x,\n",
    "            'value': [\n",
    "                addr_cache[x]['lng'],\n",
    "                addr_cache[x]['lat'],\n",
    "                5\n",
    "            ]\n",
    "        }\n",
    "        for x in elem['addr']\n",
    "        if x in addr_cache\n",
    "    ]\n",
    "    with open(f'docs/map/{elem[\"date\"]}.json', 'w') as fp:\n",
    "        json.dump(data, fp, ensure_ascii=False, indent=4)"
   ]
  },
  {
   "cell_type": "code",
   "execution_count": 23,
   "metadata": {},
   "outputs": [
    {
     "name": "stdout",
     "output_type": "stream",
     "text": [
      "20220224.json  20220305.json  20220314.json  20220323.json  20220401.json\r\n",
      "20220225.json  20220306.json  20220315.json  20220324.json  20220402.json\r\n",
      "20220226.json  20220307.json  20220316.json  20220325.json  20220403.json\r\n",
      "20220227.json  20220308.json  20220317.json  20220326.json  20220404.json\r\n",
      "20220228.json  20220309.json  20220318.json  20220327.json  20220405.json\r\n",
      "20220301.json  20220310.json  20220319.json  20220328.json  20220406.json\r\n",
      "20220302.json  20220311.json  20220320.json  20220329.json  20220407.json\r\n",
      "20220303.json  20220312.json  20220321.json  20220330.json  20220408.json\r\n",
      "20220304.json  20220313.json  20220322.json  20220331.json\r\n"
     ]
    }
   ],
   "source": [
    "!ls docs/map"
   ]
  },
  {
   "cell_type": "code",
   "execution_count": 26,
   "metadata": {},
   "outputs": [
    {
     "data": {
      "text/plain": [
       "'20220408'"
      ]
     },
     "execution_count": 26,
     "metadata": {},
     "output_type": "execute_result"
    }
   ],
   "source": [
    "latest_date = sorted(map(lambda x: x['date'], addr))[-1]\n",
    "latest_date"
   ]
  },
  {
   "cell_type": "code",
   "execution_count": 28,
   "metadata": {},
   "outputs": [],
   "source": [
    "with open('docs/map/latest.json', 'w') as fp:\n",
    "    json.dump({'latest': latest_date}, fp, indent=4, ensure_ascii=False)"
   ]
  },
  {
   "cell_type": "code",
   "execution_count": 29,
   "metadata": {},
   "outputs": [
    {
     "name": "stdout",
     "output_type": "stream",
     "text": [
      "{\r\n",
      "    \"latest\": \"20220408\"\r\n",
      "}"
     ]
    }
   ],
   "source": [
    "!cat docs/map/latest.json"
   ]
  },
  {
   "cell_type": "code",
   "execution_count": null,
   "metadata": {},
   "outputs": [],
   "source": []
  }
 ],
 "metadata": {
  "kernelspec": {
   "display_name": "Python 3",
   "language": "python",
   "name": "python3"
  },
  "language_info": {
   "codemirror_mode": {
    "name": "ipython",
    "version": 3
   },
   "file_extension": ".py",
   "mimetype": "text/x-python",
   "name": "python",
   "nbconvert_exporter": "python",
   "pygments_lexer": "ipython3",
   "version": "3.8.6"
  }
 },
 "nbformat": 4,
 "nbformat_minor": 4
}
