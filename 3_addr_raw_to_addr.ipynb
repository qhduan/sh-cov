{
 "cells": [
  {
   "cell_type": "code",
   "execution_count": 1,
   "metadata": {},
   "outputs": [],
   "source": [
    "import re\n",
    "import json"
   ]
  },
  {
   "cell_type": "code",
   "execution_count": 2,
   "metadata": {},
   "outputs": [],
   "source": [
    "with open('./addr_raw.json') as fp:\n",
    "    addr_raw = json.load(fp)"
   ]
  },
  {
   "cell_type": "code",
   "execution_count": 3,
   "metadata": {},
   "outputs": [],
   "source": [
    "def clean(s):\n",
    "    s = re.sub(r'[，。、；]+$', '', s)\n",
    "    s = s.replace('（住宅）', '')\n",
    "    s = s.replace('（宿舍）', '')\n",
    "    s = s.strip()\n",
    "\n",
    "    # 分割一些地址的简写\n",
    "    if '、' in s:\n",
    "        # 嘉定区江桥镇五四村、红光村、增建村\n",
    "        if '镇' in s:\n",
    "            pos = s.index('镇') + 1\n",
    "            parent_addr = s[:pos]\n",
    "            others = s[pos:].split('、')\n",
    "            return [\n",
    "                parent_addr + o\n",
    "                for o in others\n",
    "            ]\n",
    "        # 嘉定区嘉定工业区草庵村、灯塔村、旺泾村、陆渡村\n",
    "        if '工业区' in s:\n",
    "            pos = s.index('工业区') + 3\n",
    "            parent_addr = s[:pos]\n",
    "            others = s[pos:].split('、')\n",
    "            return [\n",
    "                parent_addr + o\n",
    "                for o in others\n",
    "            ]\n",
    "        # 嘉定区真新街道丰庄三队、新郁路欣会公寓\n",
    "        if '真新街道' in s:\n",
    "            pos = s.index('真新街道') + 4\n",
    "            parent_addr = s[:pos]\n",
    "            others = s[pos:].split('、')\n",
    "            return [\n",
    "                parent_addr + o\n",
    "                for o in others\n",
    "            ]\n",
    "        # 宝山区月浦六村、恒高路128弄\n",
    "        if s == '宝山区月浦六村、恒高路128弄':\n",
    "            return [\n",
    "                '宝山区月浦六村',\n",
    "                '宝山区恒高路128弄'\n",
    "            ]\n",
    "        \n",
    "    return [s]"
   ]
  },
  {
   "cell_type": "code",
   "execution_count": 4,
   "metadata": {},
   "outputs": [],
   "source": [
    "assert clean(\"徐汇区蒲汇塘路50号，\") == [\"徐汇区蒲汇塘路50号\"]\n",
    "assert clean(\"长宁区虹桥路961弄（住宅）\") == [\"长宁区虹桥路961弄\"]\n",
    "assert clean('嘉定区江桥镇五四村、红光村、增建村') == ['嘉定区江桥镇五四村', '嘉定区江桥镇红光村', '嘉定区江桥镇增建村']\n",
    "assert clean('嘉定区嘉定工业区草庵村、灯塔村、旺泾村、陆渡村') == [\n",
    "    '嘉定区嘉定工业区草庵村', '嘉定区嘉定工业区灯塔村', '嘉定区嘉定工业区旺泾村', '嘉定区嘉定工业区陆渡村']\n",
    "assert clean('嘉定区真新街道丰庄三队、新郁路欣会公寓') == ['嘉定区真新街道丰庄三队', '嘉定区真新街道新郁路欣会公寓']"
   ]
  },
  {
   "cell_type": "code",
   "execution_count": null,
   "metadata": {},
   "outputs": [],
   "source": []
  },
  {
   "cell_type": "code",
   "execution_count": 5,
   "metadata": {},
   "outputs": [],
   "source": [
    "addr = []\n",
    "for item in addr_raw:\n",
    "    new_obj = {\n",
    "        'date': item['date'],\n",
    "        'addr': []\n",
    "    }\n",
    "    new_obj['addr'] = []\n",
    "    for a in item['addr_raw']:\n",
    "        new_obj['addr'] += clean(a)\n",
    "    \n",
    "    new_obj['addr'] = sorted(\n",
    "        list(set(new_obj['addr'])),\n",
    "        key=lambda x: -len(x)\n",
    "    )\n",
    "\n",
    "    addr.append(new_obj)"
   ]
  },
  {
   "cell_type": "code",
   "execution_count": 6,
   "metadata": {},
   "outputs": [],
   "source": [
    "with open('./addr.json', 'w') as fp:\n",
    "    json.dump(addr, fp, indent=4, ensure_ascii=False)"
   ]
  },
  {
   "cell_type": "code",
   "execution_count": null,
   "metadata": {},
   "outputs": [],
   "source": []
  },
  {
   "cell_type": "code",
   "execution_count": 7,
   "metadata": {},
   "outputs": [],
   "source": [
    "addr_flatten = []\n",
    "for x in addr:\n",
    "    addr_flatten += x['addr']"
   ]
  },
  {
   "cell_type": "code",
   "execution_count": null,
   "metadata": {},
   "outputs": [],
   "source": []
  },
  {
   "cell_type": "code",
   "execution_count": 8,
   "metadata": {},
   "outputs": [
    {
     "name": "stdout",
     "output_type": "stream",
     "text": [
      "155244\n"
     ]
    }
   ],
   "source": [
    "print(len(addr_flatten))"
   ]
  },
  {
   "cell_type": "code",
   "execution_count": 9,
   "metadata": {},
   "outputs": [
    {
     "name": "stdout",
     "output_type": "stream",
     "text": [
      "36635\n"
     ]
    }
   ],
   "source": [
    "addr_flatten = list(set(addr_flatten))\n",
    "print(len(addr_flatten))"
   ]
  },
  {
   "cell_type": "code",
   "execution_count": 10,
   "metadata": {},
   "outputs": [],
   "source": [
    "addr_flatten = sorted(addr_flatten, key=lambda x: -len(x))"
   ]
  },
  {
   "cell_type": "code",
   "execution_count": 11,
   "metadata": {},
   "outputs": [
    {
     "name": "stdout",
     "output_type": "stream",
     "text": [
      "浦东新区白莲泾路与浦东南路交界口工地生活区\n",
      "闵行区江川路街道剑川路综合服务中心工地宿舍\n",
      "浦东新区东大公路老芦公路交界口工地生活区\n",
      "浦东新区御桥路290-292号工地生活区\n",
      "浦东新区金银花路凌霄花路交界口工地生活区\n"
     ]
    }
   ],
   "source": [
    "print('\\n'.join(addr_flatten[:5]))"
   ]
  },
  {
   "cell_type": "code",
   "execution_count": 12,
   "metadata": {},
   "outputs": [
    {
     "name": "stdout",
     "output_type": "stream",
     "text": [
      "奉贤区奉城村\n",
      "闵行区光辉村\n",
      "青浦区泖阳路\n",
      "青浦区众舟\n",
      "金山区油车\n"
     ]
    }
   ],
   "source": [
    "print('\\n'.join(addr_flatten[-5:]))"
   ]
  },
  {
   "cell_type": "code",
   "execution_count": null,
   "metadata": {},
   "outputs": [],
   "source": []
  }
 ],
 "metadata": {
  "kernelspec": {
   "display_name": "Python 3",
   "language": "python",
   "name": "python3"
  },
  "language_info": {
   "codemirror_mode": {
    "name": "ipython",
    "version": 3
   },
   "file_extension": ".py",
   "mimetype": "text/x-python",
   "name": "python",
   "nbconvert_exporter": "python",
   "pygments_lexer": "ipython3",
   "version": "3.8.6"
  }
 },
 "nbformat": 4,
 "nbformat_minor": 4
}
