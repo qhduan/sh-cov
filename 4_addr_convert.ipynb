{
 "cells": [
  {
   "cell_type": "code",
   "execution_count": 1,
   "metadata": {},
   "outputs": [],
   "source": [
    "import os\n",
    "import time\n",
    "import json\n",
    "import traceback\n",
    "\n",
    "from tqdm import tqdm\n",
    "\n",
    "from geo import get_coord"
   ]
  },
  {
   "cell_type": "code",
   "execution_count": 2,
   "metadata": {},
   "outputs": [],
   "source": [
    "addr = json.load(open('addr.json'))"
   ]
  },
  {
   "cell_type": "code",
   "execution_count": 3,
   "metadata": {},
   "outputs": [
    {
     "name": "stdout",
     "output_type": "stream",
     "text": [
      "38199\n"
     ]
    }
   ],
   "source": [
    "addr_flatten = []\n",
    "for x in addr:\n",
    "    addr_flatten += x['addr']\n",
    "addr_flatten = list(set(addr_flatten))\n",
    "print(len(addr_flatten))"
   ]
  },
  {
   "cell_type": "code",
   "execution_count": 4,
   "metadata": {},
   "outputs": [
    {
     "data": {
      "text/plain": [
       "['黄浦区绍兴路19号,', '松江区井凌桥村', '浦东新区祝桥镇义泓村果园']"
      ]
     },
     "execution_count": 4,
     "metadata": {},
     "output_type": "execute_result"
    }
   ],
   "source": [
    "addr_flatten[:3]"
   ]
  },
  {
   "cell_type": "code",
   "execution_count": 5,
   "metadata": {},
   "outputs": [],
   "source": [
    "addr_cache_path = 'addr_cache.json'\n",
    "\n",
    "if os.path.exists(addr_cache_path):\n",
    "    addr_cache = json.load(open(addr_cache_path))\n",
    "else:\n",
    "    addr_cache = {}\n",
    "\n",
    "not_valid = []\n",
    "for a in addr_flatten:\n",
    "    if a not in addr_cache:\n",
    "        not_valid.append(a)\n"
   ]
  },
  {
   "cell_type": "code",
   "execution_count": 6,
   "metadata": {},
   "outputs": [
    {
     "data": {
      "text/plain": [
       "21"
      ]
     },
     "execution_count": 6,
     "metadata": {},
     "output_type": "execute_result"
    }
   ],
   "source": [
    "len(not_valid)"
   ]
  },
  {
   "cell_type": "code",
   "execution_count": 7,
   "metadata": {},
   "outputs": [
    {
     "name": "stderr",
     "output_type": "stream",
     "text": [
      "100%|██████████| 21/21 [00:02<00:00,  8.92it/s]\n"
     ]
    }
   ],
   "source": [
    "parsed = []\n",
    "for x in tqdm(not_valid):\n",
    "    try:\n",
    "        ret = get_coord(x)\n",
    "        parsed.append(ret)\n",
    "    except:\n",
    "        traceback.print_exc()"
   ]
  },
  {
   "cell_type": "code",
   "execution_count": 8,
   "metadata": {},
   "outputs": [
    {
     "data": {
      "text/plain": [
       "21"
      ]
     },
     "execution_count": 8,
     "metadata": {},
     "output_type": "execute_result"
    }
   ],
   "source": [
    "len(parsed)"
   ]
  },
  {
   "cell_type": "code",
   "execution_count": 9,
   "metadata": {},
   "outputs": [
    {
     "data": {
      "text/plain": [
       "[{'name': '奉贤区新建中路394号', 'lng': 121.46808062038083, 'lat': 30.924521614241282},\n",
       " {'name': '徐汇区龙华西路31弄（6月9日已通报）',\n",
       "  'lng': 121.4573191000324,\n",
       "  'lat': 31.17462732270924},\n",
       " {'name': '徐汇区新乐路68号', 'lng': 121.46247402620142, 'lat': 31.224224406772226}]"
      ]
     },
     "execution_count": 9,
     "metadata": {},
     "output_type": "execute_result"
    }
   ],
   "source": [
    "parsed[:3]"
   ]
  },
  {
   "cell_type": "code",
   "execution_count": 10,
   "metadata": {},
   "outputs": [
    {
     "name": "stdout",
     "output_type": "stream",
     "text": [
      "38178\n"
     ]
    }
   ],
   "source": [
    "print(len(addr_cache))"
   ]
  },
  {
   "cell_type": "code",
   "execution_count": 11,
   "metadata": {},
   "outputs": [],
   "source": [
    "for x in parsed:\n",
    "    addr_cache[x['name']] = {\n",
    "        'lng': x['lng'],\n",
    "        'lat': x['lat'],\n",
    "    }"
   ]
  },
  {
   "cell_type": "code",
   "execution_count": 12,
   "metadata": {},
   "outputs": [
    {
     "name": "stdout",
     "output_type": "stream",
     "text": [
      "38199\n"
     ]
    }
   ],
   "source": [
    "print(len(addr_cache))"
   ]
  },
  {
   "cell_type": "code",
   "execution_count": 13,
   "metadata": {},
   "outputs": [],
   "source": [
    "with open(addr_cache_path, 'w') as fp:\n",
    "    json.dump(addr_cache, fp, indent=4, ensure_ascii=False)"
   ]
  },
  {
   "cell_type": "code",
   "execution_count": 14,
   "metadata": {},
   "outputs": [
    {
     "name": "stdout",
     "output_type": "stream",
     "text": [
      "{\r\n",
      "    \"杨浦区包头南路588弄\": {\r\n",
      "        \"lng\": 121.54687836276618,\r\n",
      "        \"lat\": 31.30610017684735\r\n",
      "    },\r\n",
      "    \"嘉定区年丰村\": {\r\n",
      "        \"lng\": 121.27896611052044,\r\n",
      "        \"lat\": 31.26423830382887\r\n",
      "    },\r\n",
      "    \"嘉定区汇仁路1988号\": {\r\n"
     ]
    }
   ],
   "source": [
    "!head addr_cache.json"
   ]
  },
  {
   "cell_type": "code",
   "execution_count": 15,
   "metadata": {},
   "outputs": [
    {
     "name": "stdout",
     "output_type": "stream",
     "text": [
      "    },\r\n",
      "    \"松江区辰花路387号西侧C08-04号地块项目生活区。（6月14日已通报）\": {\r\n",
      "        \"lng\": 121.2607898866621,\r\n",
      "        \"lat\": 31.07330232641144\r\n",
      "    },\r\n",
      "    \"浦东新区塘桥街道浦建路60弄\": {\r\n",
      "        \"lng\": 121.52445369282894,\r\n",
      "        \"lat\": 31.213159230587877\r\n",
      "    }\r\n",
      "}"
     ]
    }
   ],
   "source": [
    "!tail addr_cache.json"
   ]
  },
  {
   "cell_type": "code",
   "execution_count": null,
   "metadata": {},
   "outputs": [],
   "source": []
  }
 ],
 "metadata": {
  "kernelspec": {
   "display_name": "Python 3",
   "language": "python",
   "name": "python3"
  },
  "language_info": {
   "codemirror_mode": {
    "name": "ipython",
    "version": 3
   },
   "file_extension": ".py",
   "mimetype": "text/x-python",
   "name": "python",
   "nbconvert_exporter": "python",
   "pygments_lexer": "ipython3",
   "version": "3.8.6"
  }
 },
 "nbformat": 4,
 "nbformat_minor": 4
}
