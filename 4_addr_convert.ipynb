{
 "cells": [
  {
   "cell_type": "code",
   "execution_count": 1,
   "metadata": {},
   "outputs": [],
   "source": [
    "import os\n",
    "import time\n",
    "import json\n",
    "import traceback\n",
    "\n",
    "from tqdm import tqdm\n",
    "\n",
    "from geo import get_coord"
   ]
  },
  {
   "cell_type": "code",
   "execution_count": 2,
   "metadata": {},
   "outputs": [],
   "source": [
    "addr = json.load(open('addr.json'))"
   ]
  },
  {
   "cell_type": "code",
   "execution_count": 3,
   "metadata": {},
   "outputs": [
    {
     "name": "stdout",
     "output_type": "stream",
     "text": [
      "37934\n"
     ]
    }
   ],
   "source": [
    "addr_flatten = []\n",
    "for x in addr:\n",
    "    addr_flatten += x['addr']\n",
    "addr_flatten = list(set(addr_flatten))\n",
    "print(len(addr_flatten))"
   ]
  },
  {
   "cell_type": "code",
   "execution_count": 4,
   "metadata": {},
   "outputs": [
    {
     "data": {
      "text/plain": [
       "['嘉定区天祝路377弄', '浦东新区益民路19弄', '青浦区新凤南路233弄']"
      ]
     },
     "execution_count": 4,
     "metadata": {},
     "output_type": "execute_result"
    }
   ],
   "source": [
    "addr_flatten[:3]"
   ]
  },
  {
   "cell_type": "code",
   "execution_count": 5,
   "metadata": {},
   "outputs": [],
   "source": [
    "addr_cache_path = 'addr_cache.json'\n",
    "\n",
    "if os.path.exists(addr_cache_path):\n",
    "    addr_cache = json.load(open(addr_cache_path))\n",
    "else:\n",
    "    addr_cache = {}\n",
    "\n",
    "not_valid = []\n",
    "for a in addr_flatten:\n",
    "    if a not in addr_cache:\n",
    "        not_valid.append(a)\n"
   ]
  },
  {
   "cell_type": "code",
   "execution_count": 6,
   "metadata": {},
   "outputs": [
    {
     "data": {
      "text/plain": [
       "27"
      ]
     },
     "execution_count": 6,
     "metadata": {},
     "output_type": "execute_result"
    }
   ],
   "source": [
    "len(not_valid)"
   ]
  },
  {
   "cell_type": "code",
   "execution_count": 7,
   "metadata": {},
   "outputs": [
    {
     "name": "stderr",
     "output_type": "stream",
     "text": [
      "100%|██████████| 27/27 [00:02<00:00, 13.31it/s]\n"
     ]
    }
   ],
   "source": [
    "parsed = []\n",
    "for x in tqdm(not_valid):\n",
    "    try:\n",
    "        ret = get_coord(x)\n",
    "        parsed.append(ret)\n",
    "    except:\n",
    "        traceback.print_exc()"
   ]
  },
  {
   "cell_type": "code",
   "execution_count": 8,
   "metadata": {},
   "outputs": [
    {
     "data": {
      "text/plain": [
       "27"
      ]
     },
     "execution_count": 8,
     "metadata": {},
     "output_type": "execute_result"
    }
   ],
   "source": [
    "len(parsed)"
   ]
  },
  {
   "cell_type": "code",
   "execution_count": 9,
   "metadata": {},
   "outputs": [
    {
     "data": {
      "text/plain": [
       "[{'name': '杨浦区隆昌路60号', 'lng': 121.55736311518699, 'lat': 31.274946056162054},\n",
       " {'name': '杨浦区平凉路1099号', 'lng': 121.53870953178065, 'lat': 31.26756480092576},\n",
       " {'name': '黄浦区方斜支路25号', 'lng': 121.49233756406677, 'lat': 31.222270969897362}]"
      ]
     },
     "execution_count": 9,
     "metadata": {},
     "output_type": "execute_result"
    }
   ],
   "source": [
    "parsed[:3]"
   ]
  },
  {
   "cell_type": "code",
   "execution_count": 10,
   "metadata": {},
   "outputs": [
    {
     "name": "stdout",
     "output_type": "stream",
     "text": [
      "37907\n"
     ]
    }
   ],
   "source": [
    "print(len(addr_cache))"
   ]
  },
  {
   "cell_type": "code",
   "execution_count": 11,
   "metadata": {},
   "outputs": [],
   "source": [
    "for x in parsed:\n",
    "    addr_cache[x['name']] = {\n",
    "        'lng': x['lng'],\n",
    "        'lat': x['lat'],\n",
    "    }"
   ]
  },
  {
   "cell_type": "code",
   "execution_count": 12,
   "metadata": {},
   "outputs": [
    {
     "name": "stdout",
     "output_type": "stream",
     "text": [
      "37934\n"
     ]
    }
   ],
   "source": [
    "print(len(addr_cache))"
   ]
  },
  {
   "cell_type": "code",
   "execution_count": 13,
   "metadata": {},
   "outputs": [],
   "source": [
    "with open(addr_cache_path, 'w') as fp:\n",
    "    json.dump(addr_cache, fp, indent=4, ensure_ascii=False)"
   ]
  },
  {
   "cell_type": "code",
   "execution_count": null,
   "metadata": {},
   "outputs": [],
   "source": [
    "!head addr_cache.json"
   ]
  },
  {
   "cell_type": "code",
   "execution_count": null,
   "metadata": {},
   "outputs": [],
   "source": [
    "!tail addr_cache.json"
   ]
  },
  {
   "cell_type": "code",
   "execution_count": null,
   "metadata": {},
   "outputs": [],
   "source": []
  }
 ],
 "metadata": {
  "kernelspec": {
   "display_name": "Python 3",
   "language": "python",
   "name": "python3"
  },
  "language_info": {
   "codemirror_mode": {
    "name": "ipython",
    "version": 3
   },
   "file_extension": ".py",
   "mimetype": "text/x-python",
   "name": "python",
   "nbconvert_exporter": "python",
   "pygments_lexer": "ipython3",
   "version": "3.8.6"
  }
 },
 "nbformat": 4,
 "nbformat_minor": 4
}
