{
 "cells": [
  {
   "cell_type": "code",
   "execution_count": 1,
   "metadata": {},
   "outputs": [],
   "source": [
    "import os\n",
    "import time\n",
    "import json\n",
    "import traceback\n",
    "\n",
    "from tqdm import tqdm\n",
    "\n",
    "from geo import get_coord"
   ]
  },
  {
   "cell_type": "code",
   "execution_count": 2,
   "metadata": {},
   "outputs": [],
   "source": [
    "addr = json.load(open('addr.json'))"
   ]
  },
  {
   "cell_type": "code",
   "execution_count": 3,
   "metadata": {},
   "outputs": [
    {
     "name": "stdout",
     "output_type": "stream",
     "text": [
      "27428\n"
     ]
    }
   ],
   "source": [
    "addr_flatten = []\n",
    "for x in addr:\n",
    "    addr_flatten += x['addr']\n",
    "addr_flatten = list(set(addr_flatten))\n",
    "print(len(addr_flatten))"
   ]
  },
  {
   "cell_type": "code",
   "execution_count": 4,
   "metadata": {},
   "outputs": [
    {
     "data": {
      "text/plain": [
       "['浦东新区宏雅路150弄', '松江区江田东路185号', '虹口区川公路1569弄']"
      ]
     },
     "execution_count": 4,
     "metadata": {},
     "output_type": "execute_result"
    }
   ],
   "source": [
    "addr_flatten[:3]"
   ]
  },
  {
   "cell_type": "code",
   "execution_count": 5,
   "metadata": {},
   "outputs": [],
   "source": [
    "addr_cache_path = 'addr_cache.json'\n",
    "\n",
    "if os.path.exists(addr_cache_path):\n",
    "    addr_cache = json.load(open(addr_cache_path))\n",
    "else:\n",
    "    addr_cache = {}\n",
    "\n",
    "not_valid = []\n",
    "for a in addr_flatten:\n",
    "    if a not in addr_cache:\n",
    "        not_valid.append(a)\n"
   ]
  },
  {
   "cell_type": "code",
   "execution_count": 6,
   "metadata": {},
   "outputs": [
    {
     "data": {
      "text/plain": [
       "734"
      ]
     },
     "execution_count": 6,
     "metadata": {},
     "output_type": "execute_result"
    }
   ],
   "source": [
    "len(not_valid)"
   ]
  },
  {
   "cell_type": "code",
   "execution_count": 7,
   "metadata": {},
   "outputs": [
    {
     "name": "stderr",
     "output_type": "stream",
     "text": [
      "100%|██████████| 734/734 [00:52<00:00, 14.05it/s]\n"
     ]
    }
   ],
   "source": [
    "parsed = []\n",
    "for x in tqdm(not_valid):\n",
    "    try:\n",
    "        ret = get_coord(x)\n",
    "        parsed.append(ret)\n",
    "    except:\n",
    "        traceback.print_exc()"
   ]
  },
  {
   "cell_type": "code",
   "execution_count": 8,
   "metadata": {},
   "outputs": [
    {
     "data": {
      "text/plain": [
       "734"
      ]
     },
     "execution_count": 8,
     "metadata": {},
     "output_type": "execute_result"
    }
   ],
   "source": [
    "len(parsed)"
   ]
  },
  {
   "cell_type": "code",
   "execution_count": 9,
   "metadata": {},
   "outputs": [
    {
     "data": {
      "text/plain": [
       "[{'name': '虹口区东余杭路212弄', 'lng': 121.51573582516029, 'lat': 31.267224693821724},\n",
       " {'name': '静安区沪太支路587号', 'lng': 121.4304756031019, 'lat': 31.298016997568073},\n",
       " {'name': '虹口区溧阳路473号', 'lng': 121.4988275518847, 'lat': 31.258095069486632}]"
      ]
     },
     "execution_count": 9,
     "metadata": {},
     "output_type": "execute_result"
    }
   ],
   "source": [
    "parsed[:3]"
   ]
  },
  {
   "cell_type": "code",
   "execution_count": 10,
   "metadata": {},
   "outputs": [
    {
     "name": "stdout",
     "output_type": "stream",
     "text": [
      "26694\n"
     ]
    }
   ],
   "source": [
    "print(len(addr_cache))"
   ]
  },
  {
   "cell_type": "code",
   "execution_count": 11,
   "metadata": {},
   "outputs": [],
   "source": [
    "for x in parsed:\n",
    "    addr_cache[x['name']] = {\n",
    "        'lng': x['lng'],\n",
    "        'lat': x['lat'],\n",
    "    }"
   ]
  },
  {
   "cell_type": "code",
   "execution_count": 12,
   "metadata": {},
   "outputs": [
    {
     "name": "stdout",
     "output_type": "stream",
     "text": [
      "27428\n"
     ]
    }
   ],
   "source": [
    "print(len(addr_cache))"
   ]
  },
  {
   "cell_type": "code",
   "execution_count": 13,
   "metadata": {},
   "outputs": [],
   "source": [
    "with open(addr_cache_path, 'w') as fp:\n",
    "    json.dump(addr_cache, fp, indent=4, ensure_ascii=False)"
   ]
  },
  {
   "cell_type": "code",
   "execution_count": 14,
   "metadata": {},
   "outputs": [
    {
     "name": "stdout",
     "output_type": "stream",
     "text": [
      "{\r\n",
      "    \"杨浦区包头南路588弄\": {\r\n",
      "        \"lng\": 121.54687836276618,\r\n",
      "        \"lat\": 31.30610017684735\r\n",
      "    },\r\n",
      "    \"嘉定区年丰村\": {\r\n",
      "        \"lng\": 121.27896611052044,\r\n",
      "        \"lat\": 31.26423830382887\r\n",
      "    },\r\n",
      "    \"嘉定区汇仁路1988号\": {\r\n"
     ]
    }
   ],
   "source": [
    "!head addr_cache.json"
   ]
  },
  {
   "cell_type": "code",
   "execution_count": 15,
   "metadata": {},
   "outputs": [
    {
     "name": "stdout",
     "output_type": "stream",
     "text": [
      "    },\r\n",
      "    \"金山区金山大道3755号\": {\r\n",
      "        \"lng\": 121.31875601410161,\r\n",
      "        \"lat\": 30.737717564749293\r\n",
      "    },\r\n",
      "    \"徐汇区天平路43弄\": {\r\n",
      "        \"lng\": 121.44466098726075,\r\n",
      "        \"lat\": 31.209553449031546\r\n",
      "    }\r\n",
      "}"
     ]
    }
   ],
   "source": [
    "!tail addr_cache.json"
   ]
  },
  {
   "cell_type": "code",
   "execution_count": null,
   "metadata": {},
   "outputs": [],
   "source": []
  }
 ],
 "metadata": {
  "kernelspec": {
   "display_name": "Python 3",
   "language": "python",
   "name": "python3"
  },
  "language_info": {
   "codemirror_mode": {
    "name": "ipython",
    "version": 3
   },
   "file_extension": ".py",
   "mimetype": "text/x-python",
   "name": "python",
   "nbconvert_exporter": "python",
   "pygments_lexer": "ipython3",
   "version": "3.8.6"
  }
 },
 "nbformat": 4,
 "nbformat_minor": 4
}
