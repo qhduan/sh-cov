{
 "cells": [
  {
   "cell_type": "code",
   "execution_count": 1,
   "metadata": {},
   "outputs": [],
   "source": [
    "import os\n",
    "import time\n",
    "import json\n",
    "import traceback\n",
    "\n",
    "from tqdm import tqdm\n",
    "\n",
    "from geo import get_coord"
   ]
  },
  {
   "cell_type": "code",
   "execution_count": 2,
   "metadata": {},
   "outputs": [],
   "source": [
    "addr = json.load(open('addr.json'))"
   ]
  },
  {
   "cell_type": "code",
   "execution_count": 3,
   "metadata": {},
   "outputs": [
    {
     "name": "stdout",
     "output_type": "stream",
     "text": [
      "35553\n"
     ]
    }
   ],
   "source": [
    "addr_flatten = []\n",
    "for x in addr:\n",
    "    addr_flatten += x['addr']\n",
    "addr_flatten = list(set(addr_flatten))\n",
    "print(len(addr_flatten))"
   ]
  },
  {
   "cell_type": "code",
   "execution_count": 4,
   "metadata": {},
   "outputs": [
    {
     "data": {
      "text/plain": [
       "['青浦区久远路1668弄', '静安区海防路429弄', '静安区汾西路700弄']"
      ]
     },
     "execution_count": 4,
     "metadata": {},
     "output_type": "execute_result"
    }
   ],
   "source": [
    "addr_flatten[:3]"
   ]
  },
  {
   "cell_type": "code",
   "execution_count": 5,
   "metadata": {},
   "outputs": [],
   "source": [
    "addr_cache_path = 'addr_cache.json'\n",
    "\n",
    "if os.path.exists(addr_cache_path):\n",
    "    addr_cache = json.load(open(addr_cache_path))\n",
    "else:\n",
    "    addr_cache = {}\n",
    "\n",
    "not_valid = []\n",
    "for a in addr_flatten:\n",
    "    if a not in addr_cache:\n",
    "        not_valid.append(a)\n"
   ]
  },
  {
   "cell_type": "code",
   "execution_count": 6,
   "metadata": {},
   "outputs": [
    {
     "data": {
      "text/plain": [
       "344"
      ]
     },
     "execution_count": 6,
     "metadata": {},
     "output_type": "execute_result"
    }
   ],
   "source": [
    "len(not_valid)"
   ]
  },
  {
   "cell_type": "code",
   "execution_count": 7,
   "metadata": {},
   "outputs": [
    {
     "name": "stderr",
     "output_type": "stream",
     "text": [
      "100%|██████████| 344/344 [00:24<00:00, 13.92it/s]\n"
     ]
    }
   ],
   "source": [
    "parsed = []\n",
    "for x in tqdm(not_valid):\n",
    "    try:\n",
    "        ret = get_coord(x)\n",
    "        parsed.append(ret)\n",
    "    except:\n",
    "        traceback.print_exc()"
   ]
  },
  {
   "cell_type": "code",
   "execution_count": 8,
   "metadata": {},
   "outputs": [
    {
     "data": {
      "text/plain": [
       "344"
      ]
     },
     "execution_count": 8,
     "metadata": {},
     "output_type": "execute_result"
    }
   ],
   "source": [
    "len(parsed)"
   ]
  },
  {
   "cell_type": "code",
   "execution_count": 9,
   "metadata": {},
   "outputs": [
    {
     "data": {
      "text/plain": [
       "[{'name': '浦东新区川沙新镇黄楼村南华家宅',\n",
       "  'lng': 121.68574893867304,\n",
       "  'lat': 31.165357454311206},\n",
       " {'name': '崇明区花博大道的建筑项目工地',\n",
       "  'lng': 121.49188733334516,\n",
       "  'lat': 31.696578449753837},\n",
       " {'name': '浦东新区锦绣东路顾唐路交界口工地生活区',\n",
       "  'lng': 121.60960973144448,\n",
       "  'lat': 31.243712228679296}]"
      ]
     },
     "execution_count": 9,
     "metadata": {},
     "output_type": "execute_result"
    }
   ],
   "source": [
    "parsed[:3]"
   ]
  },
  {
   "cell_type": "code",
   "execution_count": 10,
   "metadata": {},
   "outputs": [
    {
     "name": "stdout",
     "output_type": "stream",
     "text": [
      "35209\n"
     ]
    }
   ],
   "source": [
    "print(len(addr_cache))"
   ]
  },
  {
   "cell_type": "code",
   "execution_count": 11,
   "metadata": {},
   "outputs": [],
   "source": [
    "for x in parsed:\n",
    "    addr_cache[x['name']] = {\n",
    "        'lng': x['lng'],\n",
    "        'lat': x['lat'],\n",
    "    }"
   ]
  },
  {
   "cell_type": "code",
   "execution_count": 12,
   "metadata": {},
   "outputs": [
    {
     "name": "stdout",
     "output_type": "stream",
     "text": [
      "35553\n"
     ]
    }
   ],
   "source": [
    "print(len(addr_cache))"
   ]
  },
  {
   "cell_type": "code",
   "execution_count": 13,
   "metadata": {},
   "outputs": [],
   "source": [
    "with open(addr_cache_path, 'w') as fp:\n",
    "    json.dump(addr_cache, fp, indent=4, ensure_ascii=False)"
   ]
  },
  {
   "cell_type": "code",
   "execution_count": null,
   "metadata": {},
   "outputs": [
    {
     "name": "stdout",
     "output_type": "stream",
     "text": [
      "{\r\n",
      "    \"杨浦区包头南路588弄\": {\r\n",
      "        \"lng\": 121.54687836276618,\r\n",
      "        \"lat\": 31.30610017684735\r\n",
      "    },\r\n",
      "    \"嘉定区年丰村\": {\r\n",
      "        \"lng\": 121.27896611052044,\r\n",
      "        \"lat\": 31.26423830382887\r\n",
      "    },\r\n",
      "    \"嘉定区汇仁路1988号\": {\r\n"
     ]
    }
   ],
   "source": [
    "!head addr_cache.json"
   ]
  },
  {
   "cell_type": "code",
   "execution_count": null,
   "metadata": {},
   "outputs": [],
   "source": [
    "!tail addr_cache.json"
   ]
  },
  {
   "cell_type": "code",
   "execution_count": null,
   "metadata": {},
   "outputs": [],
   "source": []
  }
 ],
 "metadata": {
  "kernelspec": {
   "display_name": "Python 3",
   "language": "python",
   "name": "python3"
  },
  "language_info": {
   "codemirror_mode": {
    "name": "ipython",
    "version": 3
   },
   "file_extension": ".py",
   "mimetype": "text/x-python",
   "name": "python",
   "nbconvert_exporter": "python",
   "pygments_lexer": "ipython3",
   "version": "3.8.6"
  }
 },
 "nbformat": 4,
 "nbformat_minor": 4
}
