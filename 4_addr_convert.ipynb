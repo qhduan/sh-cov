{
 "cells": [
  {
   "cell_type": "code",
   "execution_count": 1,
   "metadata": {},
   "outputs": [],
   "source": [
    "import os\n",
    "import time\n",
    "import json\n",
    "import traceback\n",
    "\n",
    "from tqdm import tqdm\n",
    "\n",
    "from geo import get_coord"
   ]
  },
  {
   "cell_type": "code",
   "execution_count": 2,
   "metadata": {},
   "outputs": [],
   "source": [
    "addr = json.load(open('addr.json'))"
   ]
  },
  {
   "cell_type": "code",
   "execution_count": 3,
   "metadata": {},
   "outputs": [
    {
     "name": "stdout",
     "output_type": "stream",
     "text": [
      "38108\n"
     ]
    }
   ],
   "source": [
    "addr_flatten = []\n",
    "for x in addr:\n",
    "    addr_flatten += x['addr']\n",
    "addr_flatten = list(set(addr_flatten))\n",
    "print(len(addr_flatten))"
   ]
  },
  {
   "cell_type": "code",
   "execution_count": 4,
   "metadata": {},
   "outputs": [
    {
     "data": {
      "text/plain": [
       "['金山区浦卫公路10583号', '黄浦区浙江中路132号', '浦东新区下南路276弄']"
      ]
     },
     "execution_count": 4,
     "metadata": {},
     "output_type": "execute_result"
    }
   ],
   "source": [
    "addr_flatten[:3]"
   ]
  },
  {
   "cell_type": "code",
   "execution_count": 5,
   "metadata": {},
   "outputs": [],
   "source": [
    "addr_cache_path = 'addr_cache.json'\n",
    "\n",
    "if os.path.exists(addr_cache_path):\n",
    "    addr_cache = json.load(open(addr_cache_path))\n",
    "else:\n",
    "    addr_cache = {}\n",
    "\n",
    "not_valid = []\n",
    "for a in addr_flatten:\n",
    "    if a not in addr_cache:\n",
    "        not_valid.append(a)\n"
   ]
  },
  {
   "cell_type": "code",
   "execution_count": 6,
   "metadata": {},
   "outputs": [
    {
     "data": {
      "text/plain": [
       "16"
      ]
     },
     "execution_count": 6,
     "metadata": {},
     "output_type": "execute_result"
    }
   ],
   "source": [
    "len(not_valid)"
   ]
  },
  {
   "cell_type": "code",
   "execution_count": 7,
   "metadata": {},
   "outputs": [
    {
     "name": "stderr",
     "output_type": "stream",
     "text": [
      "100%|██████████| 16/16 [00:01<00:00, 11.52it/s]\n"
     ]
    }
   ],
   "source": [
    "parsed = []\n",
    "for x in tqdm(not_valid):\n",
    "    try:\n",
    "        ret = get_coord(x)\n",
    "        parsed.append(ret)\n",
    "    except:\n",
    "        traceback.print_exc()"
   ]
  },
  {
   "cell_type": "code",
   "execution_count": 8,
   "metadata": {},
   "outputs": [
    {
     "data": {
      "text/plain": [
       "16"
      ]
     },
     "execution_count": 8,
     "metadata": {},
     "output_type": "execute_result"
    }
   ],
   "source": [
    "len(parsed)"
   ]
  },
  {
   "cell_type": "code",
   "execution_count": 9,
   "metadata": {},
   "outputs": [
    {
     "data": {
      "text/plain": [
       "[{'name': '虹口区民和路65弄', 'lng': 121.47534583776914, 'lat': 31.274769406069247},\n",
       " {'name': '浦东新区东方路258号', 'lng': 121.52760000787765, 'lat': 31.242627620122622},\n",
       " {'name': '虹口区广中路548号', 'lng': 121.47535139289042, 'lat': 31.285701494351525}]"
      ]
     },
     "execution_count": 9,
     "metadata": {},
     "output_type": "execute_result"
    }
   ],
   "source": [
    "parsed[:3]"
   ]
  },
  {
   "cell_type": "code",
   "execution_count": 10,
   "metadata": {},
   "outputs": [
    {
     "name": "stdout",
     "output_type": "stream",
     "text": [
      "38092\n"
     ]
    }
   ],
   "source": [
    "print(len(addr_cache))"
   ]
  },
  {
   "cell_type": "code",
   "execution_count": 11,
   "metadata": {},
   "outputs": [],
   "source": [
    "for x in parsed:\n",
    "    addr_cache[x['name']] = {\n",
    "        'lng': x['lng'],\n",
    "        'lat': x['lat'],\n",
    "    }"
   ]
  },
  {
   "cell_type": "code",
   "execution_count": 12,
   "metadata": {},
   "outputs": [
    {
     "name": "stdout",
     "output_type": "stream",
     "text": [
      "38108\n"
     ]
    }
   ],
   "source": [
    "print(len(addr_cache))"
   ]
  },
  {
   "cell_type": "code",
   "execution_count": 13,
   "metadata": {},
   "outputs": [],
   "source": [
    "with open(addr_cache_path, 'w') as fp:\n",
    "    json.dump(addr_cache, fp, indent=4, ensure_ascii=False)"
   ]
  },
  {
   "cell_type": "code",
   "execution_count": 14,
   "metadata": {},
   "outputs": [
    {
     "name": "stdout",
     "output_type": "stream",
     "text": [
      "{\r\n",
      "    \"杨浦区包头南路588弄\": {\r\n",
      "        \"lng\": 121.54687836276618,\r\n",
      "        \"lat\": 31.30610017684735\r\n",
      "    },\r\n",
      "    \"嘉定区年丰村\": {\r\n",
      "        \"lng\": 121.27896611052044,\r\n",
      "        \"lat\": 31.26423830382887\r\n",
      "    },\r\n",
      "    \"嘉定区汇仁路1988号\": {\r\n"
     ]
    }
   ],
   "source": [
    "!head addr_cache.json"
   ]
  },
  {
   "cell_type": "code",
   "execution_count": 15,
   "metadata": {},
   "outputs": [
    {
     "name": "stdout",
     "output_type": "stream",
     "text": [
      "    },\r\n",
      "    \"浦东新区海纳路490弄工地生活区\": {\r\n",
      "        \"lng\": 121.67528628456776,\r\n",
      "        \"lat\": 31.297291824890852\r\n",
      "    },\r\n",
      "    \"长宁区龙溪路189弄\": {\r\n",
      "        \"lng\": 121.38680678868779,\r\n",
      "        \"lat\": 31.20075167051702\r\n",
      "    }\r\n",
      "}"
     ]
    }
   ],
   "source": [
    "!tail addr_cache.json"
   ]
  },
  {
   "cell_type": "code",
   "execution_count": null,
   "metadata": {},
   "outputs": [],
   "source": []
  }
 ],
 "metadata": {
  "kernelspec": {
   "display_name": "Python 3",
   "language": "python",
   "name": "python3"
  },
  "language_info": {
   "codemirror_mode": {
    "name": "ipython",
    "version": 3
   },
   "file_extension": ".py",
   "mimetype": "text/x-python",
   "name": "python",
   "nbconvert_exporter": "python",
   "pygments_lexer": "ipython3",
   "version": "3.8.6"
  }
 },
 "nbformat": 4,
 "nbformat_minor": 4
}
