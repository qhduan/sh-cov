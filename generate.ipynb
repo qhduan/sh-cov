{
 "cells": [
  {
   "cell_type": "code",
   "execution_count": 15,
   "metadata": {},
   "outputs": [],
   "source": [
    "import os\n",
    "import json"
   ]
  },
  {
   "cell_type": "code",
   "execution_count": 16,
   "metadata": {},
   "outputs": [],
   "source": [
    "addr = json.load(open('addr.json'))\n",
    "addr_cache = json.load(open('addr_cache.json'))"
   ]
  },
  {
   "cell_type": "code",
   "execution_count": 17,
   "metadata": {},
   "outputs": [],
   "source": [
    "os.makedirs('docs/map', exist_ok=True)"
   ]
  },
  {
   "cell_type": "code",
   "execution_count": 18,
   "metadata": {},
   "outputs": [],
   "source": [
    "for elem in addr:\n",
    "    data = [\n",
    "        {\n",
    "            'name': x,\n",
    "            'value': [\n",
    "                addr_cache[x]['lng'],\n",
    "                addr_cache[x]['lat'],\n",
    "                5\n",
    "            ]\n",
    "        }\n",
    "        for x in elem['addr']\n",
    "        if x in addr_cache\n",
    "    ]\n",
    "    with open(f'docs/map/{elem[\"date\"]}.json', 'w') as fp:\n",
    "        json.dump(data, fp, ensure_ascii=False, indent=4)"
   ]
  },
  {
   "cell_type": "code",
   "execution_count": null,
   "metadata": {},
   "outputs": [],
   "source": []
  }
 ],
 "metadata": {
  "kernelspec": {
   "display_name": "Python 3",
   "language": "python",
   "name": "python3"
  },
  "language_info": {
   "codemirror_mode": {
    "name": "ipython",
    "version": 3
   },
   "file_extension": ".py",
   "mimetype": "text/x-python",
   "name": "python",
   "nbconvert_exporter": "python",
   "pygments_lexer": "ipython3",
   "version": "3.8.6"
  }
 },
 "nbformat": 4,
 "nbformat_minor": 4
}
