{
 "cells": [
  {
   "cell_type": "code",
   "execution_count": 1,
   "metadata": {},
   "outputs": [],
   "source": [
    "import os\n",
    "import re\n",
    "import pandas as pd"
   ]
  },
  {
   "cell_type": "code",
   "execution_count": 2,
   "metadata": {},
   "outputs": [],
   "source": [
    "data_root = 'sources'\n",
    "\n",
    "txt = [\n",
    "    {\n",
    "        'path': os.path.join(data_root, x),\n",
    "        'date': '2022' + x[:4]\n",
    "    }\n",
    "    for x in os.listdir(data_root) if 'detail' not in x and x.endswith('.txt')]\n",
    "txt = sorted(txt, key=lambda x: x['date'])\n",
    "for elem in txt:\n",
    "    elem['content'] = open(elem['path']).read()"
   ]
  },
  {
   "cell_type": "code",
   "execution_count": 3,
   "metadata": {},
   "outputs": [],
   "source": [
    "def include_nubmer(s):\n",
    "    return not not re.search(r'\\d+', s)\n",
    "\n",
    "\n",
    "assert include_nubmer('23')\n",
    "assert not include_nubmer('ab')\n",
    "\n",
    "\n",
    "def intent_wuzhengzhuang(line):\n",
    "    if '境外' in line:\n",
    "        return\n",
    "    if '新增' not in line:\n",
    "        return\n",
    "    if '无症状感染' not in line:\n",
    "        return\n",
    "    if '例' not in line:\n",
    "        return\n",
    "    if not include_nubmer(line):\n",
    "        return\n",
    "    if '确诊病例' in line:\n",
    "        return\n",
    "    n = re.findall(r'\\d+', line)\n",
    "    return {\n",
    "        'intent': '无症状感染者',\n",
    "        'number': int(n[-1]),  # 一般最后一个数字才是，前面的数字是日期\n",
    "        'source': line,\n",
    "    }\n",
    "\n",
    "def intent_quezhen(line):\n",
    "    line = re.sub(r'治愈出院\\d+例', '治愈出院xx例', line)\n",
    "    line = re.sub(r'含\\d+例由无症状', '含xx例由无症状', line)\n",
    "    line = re.sub(r'\\d+月\\d+日已通报', 'x月x日已通报', line)\n",
    "    if '境外' in line:\n",
    "        return\n",
    "    if '新冠肺炎确诊病例' not in line:\n",
    "        return\n",
    "    if '累计本土确诊' in line:\n",
    "        return\n",
    "    if not include_nubmer(line):\n",
    "        return\n",
    "    n = re.findall(r'\\d+', line)\n",
    "    return {\n",
    "        'intent': '确诊病例',\n",
    "        'number': 0 if '无新增本土' in line else int(n[-1]),  # 一般最后一个数字才是，前面的数字是日期\n",
    "        'source': line,\n",
    "    }"
   ]
  },
  {
   "cell_type": "code",
   "execution_count": 4,
   "metadata": {
    "scrolled": false
   },
   "outputs": [
    {
     "name": "stdout",
     "output_type": "stream",
     "text": [
      "{'intent': '无症状感染者', 'number': 1, 'source': '2022年2月24日0—24时，新增本土无症状感染者1例。'}\n",
      "{'intent': '无症状感染者', 'number': 1, 'source': '2022年2月25日0—24时，新增本土无症状感染者1例。'}\n",
      "{'intent': '无症状感染者', 'number': 1, 'source': '2022年2月26日0—24时，新增本土无症状感染者1例。'}\n",
      "{'intent': '无症状感染者', 'number': 1, 'source': '2022年2月27日0—24时，新增本土无症状感染者1例。'}\n",
      "{'intent': '无症状感染者', 'number': 3, 'source': '2022年2月28日0—24时，新增本土无症状感染者3例。'}\n",
      "{'intent': '无症状感染者', 'number': 1, 'source': '2022年3月1日0—24时，新增本土无症状感染者1例。'}\n",
      "{'intent': '无症状感染者', 'number': 5, 'source': '2022年3月2日0—24时，新增本土无症状感染者5例。'}\n",
      "{'intent': '无症状感染者', 'number': 14, 'source': '2022年3月3日0—24时，新增本土无症状感染者14例。'}\n",
      "{'intent': '无症状感染者', 'number': 16, 'source': '2022年3月4日0—24时，新增本土无症状感染者16例。'}\n",
      "{'intent': '无症状感染者', 'number': 28, 'source': '2022年3月5日0—24时，新增本土无症状感染者28例。'}\n",
      "{'intent': '无症状感染者', 'number': 45, 'source': '2022年3月6日0—24时，新增本土无症状感染者45例。'}\n",
      "{'intent': '无症状感染者', 'number': 51, 'source': '2022年3月7日0—24时，新增本土无症状感染者51例。'}\n",
      "{'intent': '无症状感染者', 'number': 62, 'source': '2022年3月8日0—24时，新增本土无症状感染者62例。'}\n",
      "{'intent': '无症状感染者', 'number': 76, 'source': '2022年3月9日0—24时，新增本土无症状感染者76例。'}\n",
      "{'intent': '无症状感染者', 'number': 64, 'source': '2022年3月10日0—24时，新增本土无症状感染者64例。'}\n",
      "{'intent': '无症状感染者', 'number': 78, 'source': '2022年3月11日0—24时，新增本土无症状感染者78例。'}\n",
      "{'intent': '无症状感染者', 'number': 64, 'source': '2022年3月12日0—24时，新增本土无症状感染者64例。'}\n",
      "{'intent': '无症状感染者', 'number': 128, 'source': '2022年3月13日0—24时，新增本土无症状感染者128例。'}\n",
      "{'intent': '无症状感染者', 'number': 130, 'source': '2022年3月14日0—24时，新增本土无症状感染者130例。'}\n",
      "{'intent': '无症状感染者', 'number': 197, 'source': '2022年3月15日0—24时，新增本土无症状感染者197例。'}\n",
      "{'intent': '无症状感染者', 'number': 150, 'source': '2022年3月16日0—24时，新增本土无症状感染者150例。'}\n",
      "{'intent': '无症状感染者', 'number': 203, 'source': '2022年3月17日0—24时，新增本土无症状感染者203例。'}\n",
      "{'intent': '无症状感染者', 'number': 366, 'source': '2022年3月18日0—24时，新增本土无症状感染者366例。'}\n",
      "{'intent': '无症状感染者', 'number': 492, 'source': '2022年3月19日0—24时，新增本土无症状感染者492例。'}\n",
      "{'intent': '无症状感染者', 'number': 734, 'source': '2022年3月20日0—24时，新增本土无症状感染者734例。'}\n",
      "{'intent': '无症状感染者', 'number': 865, 'source': '2022年3月21日0—24时，新增本土无症状感染者865例。'}\n",
      "{'intent': '无症状感染者', 'number': 977, 'source': '2022年3月22日0—24时，新增本土无症状感染者977例。'}\n",
      "{'intent': '无症状感染者', 'number': 979, 'source': '2022年3月23日0—24时，新增本土无症状感染者979例。'}\n",
      "{'intent': '无症状感染者', 'number': 1580, 'source': '2022年3月24日0—24时，新增本土无症状感染者1580例。'}\n",
      "{'intent': '无症状感染者', 'number': 2231, 'source': '2022年3月25日0—24时，新增本土无症状感染者2231例。'}\n",
      "{'intent': '无症状感染者', 'number': 2631, 'source': '2022年3月26日0—24时，新增本土无症状感染者2631例。'}\n",
      "{'intent': '无症状感染者', 'number': 3450, 'source': '2022年3月27日0—24时，新增本土无症状感染者3450例。'}\n",
      "{'intent': '无症状感染者', 'number': 4381, 'source': '2022年3月28日0—24时，新增本土无症状感染者4381例。'}\n",
      "{'intent': '无症状感染者', 'number': 5656, 'source': '2022年3月29日0—24时，新增本土无症状感染者5656例。'}\n",
      "{'intent': '无症状感染者', 'number': 5298, 'source': '2022年3月30日0—24时，新增本土无症状感染者5298例。'}\n",
      "{'intent': '无症状感染者', 'number': 4144, 'source': '2022年3月31日0—24时，新增本土无症状感染者4144例。'}\n",
      "{'intent': '无症状感染者', 'number': 6051, 'source': '2022年4月1日0—24时，新增本土无症状感染者6051例。'}\n",
      "{'intent': '无症状感染者', 'number': 7788, 'source': '2022年4月2日0—24时，新增本土无症状感染者7788例。'}\n",
      "{'intent': '无症状感染者', 'number': 8581, 'source': '2022年4月3日0—24时，新增本土无症状感染者8581例。'}\n",
      "{'intent': '无症状感染者', 'number': 13086, 'source': '2022年4月4日0—24时，新增本土无症状感染者13086例。'}\n",
      "{'intent': '无症状感染者', 'number': 16766, 'source': '2022年4月5日0—24时，新增本土无症状感染者16766例。'}\n",
      "{'intent': '无症状感染者', 'number': 19660, 'source': '2022年4月6日0—24时，新增本土无症状感染者19660例。'}\n",
      "{'intent': '无症状感染者', 'number': 20398, 'source': '2022年4月7日0—24时，新增本土无症状感染者20398例。'}\n",
      "{'intent': '无症状感染者', 'number': 22609, 'source': '2022年4月8日0—24时，新增本土无症状感染者22609例。'}\n",
      "{'intent': '无症状感染者', 'number': 23937, 'source': '2022年4月9日0—24时，新增本土无症状感染者23937例。'}\n",
      "{'intent': '无症状感染者', 'number': 25173, 'source': '2022年4月10日0—24时，新增本土无症状感染者25173例。'}\n"
     ]
    }
   ],
   "source": [
    "wuzhengzhuang = []\n",
    "for elem in txt:\n",
    "    date = elem['date']\n",
    "    c = elem['content']\n",
    "    lines = c.split('\\n')\n",
    "    for l in lines:\n",
    "        i = intent_wuzhengzhuang(l)\n",
    "        if i:\n",
    "            print(i)\n",
    "            wuzhengzhuang.append(i)\n",
    "            i['date'] = date"
   ]
  },
  {
   "cell_type": "code",
   "execution_count": 5,
   "metadata": {},
   "outputs": [
    {
     "data": {
      "text/plain": [
       "<AxesSubplot:xlabel='date'>"
      ]
     },
     "execution_count": 5,
     "metadata": {},
     "output_type": "execute_result"
    },
    {
     "data": {
      "image/png": "[encoded data removed]",
      "text/plain": [
       "<Figure size 1152x288 with 1 Axes>"
      ]
     },
     "metadata": {
      "needs_background": "light"
     },
     "output_type": "display_data"
    }
   ],
   "source": [
    "wuzhengzhuang_df = pd.DataFrame(wuzhengzhuang)\n",
    "wuzhengzhuang_df.index = pd.to_datetime(wuzhengzhuang_df['date'])\n",
    "wuzhengzhuang_df = wuzhengzhuang_df[['number']]\n",
    "wuzhengzhuang_df.columns = ['wuzhengzhuang']\n",
    "wuzhengzhuang_df.to_csv('无症状感染者.csv')\n",
    "wuzhengzhuang_df.plot(y=['wuzhengzhuang'], figsize=(16, 4))"
   ]
  },
  {
   "cell_type": "code",
   "execution_count": 6,
   "metadata": {
    "scrolled": false
   },
   "outputs": [
    {
     "name": "stdout",
     "output_type": "stream",
     "text": [
      "{'intent': '确诊病例', 'number': 0, 'source': '2022年2月24日0—24时，无新增本土新冠肺炎确诊病例。'}\n",
      "{'intent': '确诊病例', 'number': 0, 'source': '2022年2月25日0—24时，无新增本土新冠肺炎确诊病例。'}\n",
      "{'intent': '确诊病例', 'number': 0, 'source': '2022年2月26日0—24时，无新增本土新冠肺炎确诊病例。'}\n",
      "{'intent': '确诊病例', 'number': 0, 'source': '2022年2月27日0—24时，无新增本土新冠肺炎确诊病例。'}\n",
      "{'intent': '确诊病例', 'number': 0, 'source': '2022年2月28日0—24时，无新增本土新冠肺炎确诊病例。'}\n",
      "{'intent': '确诊病例', 'number': 1, 'source': '2022年3月1日0—24时，新增本土新冠肺炎确诊病例1例（x月x日已通报）。'}\n",
      "{'intent': '确诊病例', 'number': 3, 'source': '2022年3月2日0—24时，新增本土新冠肺炎确诊病例3例。（x月x日已通报）'}\n",
      "{'intent': '确诊病例', 'number': 2, 'source': '2022年3月3日0—24时，新增本土新冠肺炎确诊病例2例。（x月x日已通报）'}\n",
      "{'intent': '确诊病例', 'number': 3, 'source': '2022年3月4日0—24时，新增本土新冠肺炎确诊病例3例。（x月x日已通报）'}\n",
      "{'intent': '确诊病例', 'number': 0, 'source': '2022年3月5日0—24时，无新增本土新冠肺炎确诊病例。'}\n",
      "{'intent': '确诊病例', 'number': 3, 'source': '2022年3月6日0—24时，新增本土新冠肺炎确诊病例3例。（x月x日已通报）'}\n",
      "{'intent': '确诊病例', 'number': 4, 'source': '2022年3月7日0—24时，新增本土新冠肺炎确诊病例4例。（x月x日已通报）'}\n",
      "{'intent': '确诊病例', 'number': 3, 'source': '2022年3月8日0—24时，新增本土新冠肺炎确诊病例3例。（x月x日已通报）'}\n",
      "{'intent': '确诊病例', 'number': 4, 'source': '2022年3月9日0—24时，新增本土新冠肺炎确诊病例4例。（x月x日已通报）'}\n",
      "{'intent': '确诊病例', 'number': 11, 'source': '2022年3月10日0—24时，新增本土新冠肺炎确诊病例11例。'}\n",
      "{'intent': '确诊病例', 'number': 5, 'source': '2022年3月11日0—24时，新增本土新冠肺炎确诊病例5例。'}\n",
      "{'intent': '确诊病例', 'number': 1, 'source': '2022年3月12日0—24时，新增本土新冠肺炎确诊病例1例。'}\n",
      "{'intent': '确诊病例', 'number': 41, 'source': '2022年3月13日0—24时，新增本土新冠肺炎确诊病例41例，含xx例由无症状感染者转为确诊病例。'}\n",
      "{'intent': '确诊病例', 'number': 9, 'source': '2022年3月14日0—24时，新增本土新冠肺炎确诊病例9例。'}\n",
      "{'intent': '确诊病例', 'number': 5, 'source': '2022年3月15日0—24时，新增本土新冠肺炎确诊病例5例。'}\n",
      "{'intent': '确诊病例', 'number': 8, 'source': '2022年3月16日0—24时，新增本土新冠肺炎确诊病例8例，含xx例由无症状感染者转为确诊病例。'}\n",
      "{'intent': '确诊病例', 'number': 57, 'source': '2022年3月17日0—24时，新增本土新冠肺炎确诊病例57例。'}\n",
      "{'intent': '确诊病例', 'number': 8, 'source': '2022年3月18日0—24时，新增本土新冠肺炎确诊病例8例。'}\n",
      "{'intent': '确诊病例', 'number': 17, 'source': '2022年3月19日0—24时，新增本土新冠肺炎确诊病例17例，含xx例由无症状感染者转为确诊病例。治愈出院xx例。'}\n",
      "{'intent': '确诊病例', 'number': 24, 'source': '2022年3月20日0—24时，新增本土新冠肺炎确诊病例24例。治愈出院xx例。'}\n",
      "{'intent': '确诊病例', 'number': 31, 'source': '2022年3月21日0—24时，新增本土新冠肺炎确诊病例31例。治愈出院xx例。'}\n",
      "{'intent': '确诊病例', 'number': 4, 'source': '2022年3月22日0—24时，新增本土新冠肺炎确诊病例4例。治愈出院xx例。'}\n",
      "{'intent': '确诊病例', 'number': 4, 'source': '2022年3月23日0—24时，新增本土新冠肺炎确诊病例4例。治愈出院xx例。'}\n",
      "{'intent': '确诊病例', 'number': 29, 'source': '2022年3月24日0—24时，新增本土新冠肺炎确诊病例29例。治愈出院xx例。'}\n",
      "{'intent': '确诊病例', 'number': 38, 'source': '2022年3月25日0—24时，新增本土新冠肺炎确诊病例38例。治愈出院xx例。'}\n",
      "{'intent': '确诊病例', 'number': 45, 'source': '2022年3月26日0—24时，新增本土新冠肺炎确诊病例45例。治愈出院xx例。'}\n",
      "{'intent': '确诊病例', 'number': 50, 'source': '2022年3月27日0—24时，新增本土新冠肺炎确诊病例50例。治愈出院xx例。'}\n",
      "{'intent': '确诊病例', 'number': 96, 'source': '2022年3月28日0—24时，新增本土新冠肺炎确诊病例96例，含xx例由无症状感染者转为确诊病例。治愈出院xx例。'}\n",
      "{'intent': '确诊病例', 'number': 326, 'source': '2022年3月29日0—24时，新增本土新冠肺炎确诊病例326例，含xx例由无症状感染者转为确诊病例。治愈出院xx例。'}\n",
      "{'intent': '确诊病例', 'number': 355, 'source': '2022年3月30日0—24时，新增本土新冠肺炎确诊病例355例，含xx例由无症状感染者转为确诊病例。治愈出院xx例。'}\n",
      "{'intent': '确诊病例', 'number': 358, 'source': '2022年3月31日0—24时，新增本土新冠肺炎确诊病例358例，含xx例由无症状感染者转为确诊病例。治愈出院xx例。'}\n",
      "{'intent': '确诊病例', 'number': 260, 'source': '2022年4月1日0—24时，新增本土新冠肺炎确诊病例260例，含xx例由无症状感染者转为确诊病例。治愈出院xx例。'}\n",
      "{'intent': '确诊病例', 'number': 438, 'source': '2022年4月2日0—24时，新增本土新冠肺炎确诊病例438例，含xx例由无症状感染者转为确诊病例。治愈出院xx例。'}\n",
      "{'intent': '确诊病例', 'number': 425, 'source': '2022年4月3日0—24时，新增本土新冠肺炎确诊病例425例，含xx例由无症状感染者转为确诊病例。治愈出院xx例。'}\n",
      "{'intent': '确诊病例', 'number': 268, 'source': '2022年4月4日0—24时，新增本土新冠肺炎确诊病例268例，含xx例由无症状感染者转为确诊病例。治愈出院xx例。'}\n",
      "{'intent': '确诊病例', 'number': 311, 'source': '2022年4月5日0—24时，新增本土新冠肺炎确诊病例311例，含xx例由无症状感染者转为确诊病例。新增治愈出院xx例。'}\n",
      "{'intent': '确诊病例', 'number': 322, 'source': '2022年4月6日0—24时，新增本土新冠肺炎确诊病例322例，含xx例由无症状感染者转为确诊病例。新增治愈出院xx例。'}\n",
      "{'intent': '确诊病例', 'number': 824, 'source': '2022年4月7日0—24时，新增本土新冠肺炎确诊病例824例，含xx例由无症状感染者转为确诊病例。新增治愈出院xx例。'}\n",
      "{'intent': '确诊病例', 'number': 1015, 'source': '2022年4月8日0—24时，新增本土新冠肺炎确诊病例1015例，含xx例由无症状感染者转为确诊病例。新增治愈出院xx例。'}\n",
      "{'intent': '确诊病例', 'number': 1006, 'source': '2022年4月9日0—24时，新增本土新冠肺炎确诊病例1006例，含xx例由无症状感染者转为确诊病例。新增治愈出院xx例。'}\n",
      "{'intent': '确诊病例', 'number': 914, 'source': '2022年4月10日0—24时，新增本土新冠肺炎确诊病例914例，含xx例由无症状感染者转为确诊病例。新增治愈出院xx例。'}\n"
     ]
    }
   ],
   "source": [
    "quezhen = []\n",
    "for elem in txt:\n",
    "    date = elem['date']\n",
    "    c = elem['content']\n",
    "    lines = c.split('\\n')\n",
    "    for l in lines:\n",
    "        i = intent_quezhen(l)\n",
    "        if i:\n",
    "            print(i)\n",
    "            quezhen.append(i)\n",
    "            i['date'] = date"
   ]
  },
  {
   "cell_type": "code",
   "execution_count": 7,
   "metadata": {},
   "outputs": [
    {
     "data": {
      "text/plain": [
       "<AxesSubplot:xlabel='date'>"
      ]
     },
     "execution_count": 7,
     "metadata": {},
     "output_type": "execute_result"
    },
    {
     "data": {
      "image/png": "[encoded data removed]",
      "text/plain": [
       "<Figure size 1152x288 with 1 Axes>"
      ]
     },
     "metadata": {
      "needs_background": "light"
     },
     "output_type": "display_data"
    }
   ],
   "source": [
    "quezhen_df = pd.DataFrame(quezhen)\n",
    "quezhen_df.index = pd.to_datetime(quezhen_df['date'])\n",
    "quezhen_df = quezhen_df[['number']]\n",
    "quezhen_df.columns = ['quezhen']\n",
    "quezhen_df.to_csv('确诊病例.csv')\n",
    "quezhen_df.plot(y=['quezhen'], figsize=(16, 4))"
   ]
  },
  {
   "cell_type": "code",
   "execution_count": 8,
   "metadata": {},
   "outputs": [],
   "source": [
    "ganranzhe = quezhen_df.merge(wuzhengzhuang_df, left_index=True, right_index=True)\n",
    "ganranzhe['all'] = ganranzhe['quezhen'] + ganranzhe['wuzhengzhuang']\n",
    "ganranzhe.to_csv('所有感染者.csv')"
   ]
  },
  {
   "cell_type": "code",
   "execution_count": 9,
   "metadata": {},
   "outputs": [
    {
     "data": {
      "text/html": [
       "<div>\n",
       "<style scoped>\n",
       "    .dataframe tbody tr th:only-of-type {\n",
       "        vertical-align: middle;\n",
       "    }\n",
       "\n",
       "    .dataframe tbody tr th {\n",
       "        vertical-align: top;\n",
       "    }\n",
       "\n",
       "    .dataframe thead th {\n",
       "        text-align: right;\n",
       "    }\n",
       "</style>\n",
       "<table border=\"1\" class=\"dataframe\">\n",
       "  <thead>\n",
       "    <tr style=\"text-align: right;\">\n",
       "      <th></th>\n",
       "      <th>quezhen</th>\n",
       "      <th>wuzhengzhuang</th>\n",
       "      <th>all</th>\n",
       "    </tr>\n",
       "    <tr>\n",
       "      <th>date</th>\n",
       "      <th></th>\n",
       "      <th></th>\n",
       "      <th></th>\n",
       "    </tr>\n",
       "  </thead>\n",
       "  <tbody>\n",
       "    <tr>\n",
       "      <th>2022-04-06</th>\n",
       "      <td>322</td>\n",
       "      <td>19660</td>\n",
       "      <td>19982</td>\n",
       "    </tr>\n",
       "    <tr>\n",
       "      <th>2022-04-07</th>\n",
       "      <td>824</td>\n",
       "      <td>20398</td>\n",
       "      <td>21222</td>\n",
       "    </tr>\n",
       "    <tr>\n",
       "      <th>2022-04-08</th>\n",
       "      <td>1015</td>\n",
       "      <td>22609</td>\n",
       "      <td>23624</td>\n",
       "    </tr>\n",
       "    <tr>\n",
       "      <th>2022-04-09</th>\n",
       "      <td>1006</td>\n",
       "      <td>23937</td>\n",
       "      <td>24943</td>\n",
       "    </tr>\n",
       "    <tr>\n",
       "      <th>2022-04-10</th>\n",
       "      <td>914</td>\n",
       "      <td>25173</td>\n",
       "      <td>26087</td>\n",
       "    </tr>\n",
       "  </tbody>\n",
       "</table>\n",
       "</div>"
      ],
      "text/plain": [
       "            quezhen  wuzhengzhuang    all\n",
       "date                                     \n",
       "2022-04-06      322          19660  19982\n",
       "2022-04-07      824          20398  21222\n",
       "2022-04-08     1015          22609  23624\n",
       "2022-04-09     1006          23937  24943\n",
       "2022-04-10      914          25173  26087"
      ]
     },
     "execution_count": 9,
     "metadata": {},
     "output_type": "execute_result"
    }
   ],
   "source": [
    "ganranzhe.tail()"
   ]
  },
  {
   "cell_type": "code",
   "execution_count": 10,
   "metadata": {},
   "outputs": [
    {
     "data": {
      "text/plain": [
       "<AxesSubplot:xlabel='date'>"
      ]
     },
     "execution_count": 10,
     "metadata": {},
     "output_type": "execute_result"
    },
    {
     "data": {
      "image/png": "[encoded data removed]",
      "text/plain": [
       "<Figure size 1152x288 with 1 Axes>"
      ]
     },
     "metadata": {
      "needs_background": "light"
     },
     "output_type": "display_data"
    }
   ],
   "source": [
    "ganranzhe.plot(y=['all', 'wuzhengzhuang', 'quezhen'], figsize=(16, 4))"
   ]
  },
  {
   "cell_type": "code",
   "execution_count": null,
   "metadata": {},
   "outputs": [],
   "source": []
  }
 ],
 "metadata": {
  "kernelspec": {
   "display_name": "Python 3",
   "language": "python",
   "name": "python3"
  },
  "language_info": {
   "codemirror_mode": {
    "name": "ipython",
    "version": 3
   },
   "file_extension": ".py",
   "mimetype": "text/x-python",
   "name": "python",
   "nbconvert_exporter": "python",
   "pygments_lexer": "ipython3",
   "version": "3.8.6"
  }
 },
 "nbformat": 4,
 "nbformat_minor": 4
}
